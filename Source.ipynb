import pandas as pd
import plotly.graph_objs as go
from plotly.subplots import make_subplots

# Load your CSV data into a pandas dataframe
file_path = "Exchange_Rate_Report_2012.csv"  # Replace with your file path
data = pd.read_csv(file_path)

data['Date'] = pd.to_datetime(data['Date'])
data.set_index('Date', inplace=True)  # Set 'Date' as the index

# Replace null values in currency columns with 0
currency_columns = [col for col in data.columns if col != 'Date']
data[currency_columns] = data[currency_columns].fillna(0)

# List of currencies
currencies = [
    'Algerian dinar   (DZD)                     ',
    'Australian dollar   (AUD)                     ',
    'Botswana pula   (BWP)                     ',
    'Brazilian real   (BRL)                     ',
    'Brunei dollar   (BND)                     ',
    'Canadian dollar   (CAD)                     ',
    'Chilean peso   (CLP)                     ',
    'Chinese yuan   (CNY)                     ',
    'Czech koruna   (CZK)                     ',
    'Danish krone   (DKK)                     ',
    'Euro   (EUR)                     ',
    'Indian rupee   (INR)                     ',
    'Israeli New Shekel   (ILS)                     ',
    'Japanese yen   (JPY)                     ',
    'Korean won   (KRW)                     ',
    'Kuwaiti dinar   (KWD)                     ',
    'Malaysian ringgit   (MYR)                     ',
    'Mauritian rupee   (MUR)                     ',
    'Mexican peso   (MXN)                     ',
    'New Zealand dollar   (NZD)                     ',
    'Norwegian krone   (NOK)                     ',
    'Omanirial   (OMR)                     ',
    'Peruvian sol   (PEN)                     ',
    'Philippine peso   (PHP)                     ',
    'Polish zloty   (PLN)                     ',
    'Qatari riyal   (QAR)                     ',
    'Russian ruble   (RUB)                     ',
    'Saudi Arabian riyal   (SAR)                     ',
    'Singapore dollar   (SGD)                     ',
    'South African rand   (ZAR)                     ',
    'Swedish krona   (SEK)                     ',
    'Swiss franc   (CHF)                     ',
    'Thai baht   (THB)                     ',
    'Trinidadian dollar   (TTD)                     ',
    'U.A.E. dirham   (AED)                     ',
    'U.K. pound   (GBP)                     ',
    'Uruguayan peso   (UYU)                     '
]

# Map user-friendly names to actual column names
currency_mapping = {currency.strip(): currency for currency in currencies}

# Function to generate visually appealing separate charts for weekly, monthly, and exchange rate analysis for multiple currencies
def generate_analysis(base_currency, selected_currency):
    fig = make_subplots(rows=3, cols=1, shared_xaxes=True)

    # Filter data for the selected currency
    cart_addition = data[selected_currency].diff().clip(lower=0)  # Calculate daily cart addition and clip negative values
    exchange_rate = data[selected_currency]

    # Resample to weekly and monthly frequency and sum
    weekly_cart_addition = cart_addition.resample('W').sum()
    monthly_cart_addition = cart_addition.resample('M').sum()

    # Visualization - Weekly Cart Addition
    fig.add_trace(go.Scatter(x=weekly_cart_addition.index, y=weekly_cart_addition, mode='lines', name=f'{selected_currency} - Weekly Cart Addition', line=dict(color='orange')), row=1, col=1)
    fig.update_yaxes(title_text='Weekly Chart', row=1, col=1, gridcolor='black', showgrid=True, zeroline=False, showline=False)
    fig.update_xaxes(gridcolor='black', showgrid=True, zeroline=False, showline=False)

    # Visualization - Monthly Cart Addition
    fig.add_trace(go.Scatter(x=monthly_cart_addition.index, y=monthly_cart_addition, mode='lines', name=f'{selected_currency} - Monthly Cart Addition', line=dict(color='blue')), row=2, col=1)
    fig.update_yaxes(title_text=f'Monthly Chart', row=2, col=1, gridcolor='black', showgrid=True, zeroline=False, showline=False)
    fig.update_xaxes(gridcolor='black', showgrid=True, zeroline=False, showline=False)

    # Visualization - Exchange Rate
    fig.add_trace(go.Scatter(x=exchange_rate.index, y=exchange_rate, mode='lines', name=f'{selected_currency} - Exchange Rate', line=dict(color='green')), row=3, col=1)
    fig.update_yaxes(title_text='Exchange Rate', row=3, col=1, gridcolor='black', showgrid=True, zeroline=False, showline=False)
    fig.update_xaxes(title_text='Date', row=3, col=1, gridcolor='black', showgrid=True, zeroline=False, showline=False)

    fig.update_layout(title=f'U.S. dollar (USD) VS {selected_currency}', showlegend=False)
    fig.update_layout(height=800, width=1000, paper_bgcolor='white', margin=dict(l=0, r=0, b=0, t=50))

    return fig

# Display menu to the user
print("Select a currency:")
for i, currency in enumerate(currencies, 1):
    print(f"{i}. {currency}")

# Take user input
user_choice = int(input("Enter the number corresponding to your currency: "))
selected_currency = currency_mapping[currencies[user_choice - 1].strip()]

# Example usage:
base_currency = 'U.S. dollar (USD)'
analysis_fig = generate_analysis(base_currency, selected_currency)

# Display the dashboard or export to HTML for web-based usage
analysis_fig.show()
